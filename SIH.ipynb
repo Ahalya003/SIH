{
  "nbformat": 4,
  "nbformat_minor": 0,
  "metadata": {
    "colab": {
      "provenance": []
    },
    "kernelspec": {
      "name": "python3",
      "display_name": "Python 3"
    },
    "language_info": {
      "name": "python"
    }
  },
  "cells": [
    {
      "cell_type": "code",
      "source": [
        "!pip install sentinelhub\n"
      ],
      "metadata": {
        "colab": {
          "base_uri": "https://localhost:8080/"
        },
        "id": "lCXrqywFHOV6",
        "outputId": "311e56f0-ec54-43a4-a7ca-069e156bc7a7"
      },
      "execution_count": null,
      "outputs": [
        {
          "output_type": "stream",
          "name": "stdout",
          "text": [
            "Requirement already satisfied: sentinelhub in /usr/local/lib/python3.10/dist-packages (3.10.3)\n",
            "Requirement already satisfied: aenum>=2.1.4 in /usr/local/lib/python3.10/dist-packages (from sentinelhub) (3.1.15)\n",
            "Requirement already satisfied: click in /usr/local/lib/python3.10/dist-packages (from sentinelhub) (8.1.7)\n",
            "Requirement already satisfied: dataclasses-json in /usr/local/lib/python3.10/dist-packages (from sentinelhub) (0.6.7)\n",
            "Requirement already satisfied: numpy<2 in /usr/local/lib/python3.10/dist-packages (from sentinelhub) (1.26.4)\n",
            "Requirement already satisfied: oauthlib in /usr/local/lib/python3.10/dist-packages (from sentinelhub) (3.2.2)\n",
            "Requirement already satisfied: pillow>=9.2.0 in /usr/local/lib/python3.10/dist-packages (from sentinelhub) (9.4.0)\n",
            "Requirement already satisfied: pyproj>=2.2.0 in /usr/local/lib/python3.10/dist-packages (from sentinelhub) (3.6.1)\n",
            "Requirement already satisfied: python-dateutil in /usr/local/lib/python3.10/dist-packages (from sentinelhub) (2.8.2)\n",
            "Requirement already satisfied: requests-oauthlib>=1.0.0 in /usr/local/lib/python3.10/dist-packages (from sentinelhub) (1.3.1)\n",
            "Requirement already satisfied: requests>=2.27.0 in /usr/local/lib/python3.10/dist-packages (from sentinelhub) (2.32.3)\n",
            "Requirement already satisfied: shapely in /usr/local/lib/python3.10/dist-packages (from sentinelhub) (2.0.6)\n",
            "Requirement already satisfied: tifffile>=2020.9.30 in /usr/local/lib/python3.10/dist-packages (from sentinelhub) (2024.8.28)\n",
            "Requirement already satisfied: tomli in /usr/local/lib/python3.10/dist-packages (from sentinelhub) (2.0.1)\n",
            "Requirement already satisfied: tomli-w in /usr/local/lib/python3.10/dist-packages (from sentinelhub) (1.0.0)\n",
            "Requirement already satisfied: tqdm in /usr/local/lib/python3.10/dist-packages (from sentinelhub) (4.66.5)\n",
            "Requirement already satisfied: typing-extensions>=4.5.0 in /usr/local/lib/python3.10/dist-packages (from sentinelhub) (4.12.2)\n",
            "Requirement already satisfied: utm in /usr/local/lib/python3.10/dist-packages (from sentinelhub) (0.7.0)\n",
            "Requirement already satisfied: certifi in /usr/local/lib/python3.10/dist-packages (from pyproj>=2.2.0->sentinelhub) (2024.8.30)\n",
            "Requirement already satisfied: charset-normalizer<4,>=2 in /usr/local/lib/python3.10/dist-packages (from requests>=2.27.0->sentinelhub) (3.3.2)\n",
            "Requirement already satisfied: idna<4,>=2.5 in /usr/local/lib/python3.10/dist-packages (from requests>=2.27.0->sentinelhub) (3.8)\n",
            "Requirement already satisfied: urllib3<3,>=1.21.1 in /usr/local/lib/python3.10/dist-packages (from requests>=2.27.0->sentinelhub) (2.0.7)\n",
            "Requirement already satisfied: marshmallow<4.0.0,>=3.18.0 in /usr/local/lib/python3.10/dist-packages (from dataclasses-json->sentinelhub) (3.22.0)\n",
            "Requirement already satisfied: typing-inspect<1,>=0.4.0 in /usr/local/lib/python3.10/dist-packages (from dataclasses-json->sentinelhub) (0.9.0)\n",
            "Requirement already satisfied: six>=1.5 in /usr/local/lib/python3.10/dist-packages (from python-dateutil->sentinelhub) (1.16.0)\n",
            "Requirement already satisfied: packaging>=17.0 in /usr/local/lib/python3.10/dist-packages (from marshmallow<4.0.0,>=3.18.0->dataclasses-json->sentinelhub) (24.1)\n",
            "Requirement already satisfied: mypy-extensions>=0.3.0 in /usr/local/lib/python3.10/dist-packages (from typing-inspect<1,>=0.4.0->dataclasses-json->sentinelhub) (1.0.0)\n"
          ]
        }
      ]
    },
    {
      "cell_type": "code",
      "source": [
        "from sentinelhub import SHConfig\n",
        "\n",
        "config = SHConfig()\n",
        "\n",
        "config.instance_id = '2b4eaaff-824d-49e1-883b-274ac0d71327'\n",
        "config.sh_client_id = '9a057dac-64a2-494b-a6f5-67f5175d8078'\n",
        "config.sh_client_secret = '9yehYUDHO8EtjwEg9AWaEAX2jAF3XKKz'\n",
        "\n",
        "if not config.instance_id or not config.sh_client_id or not config.sh_client_secret:\n",
        "    raise ValueError(\"Please provide the Sentinel Hub credentials!\")\n"
      ],
      "metadata": {
        "id": "WMW6UV33HSGS"
      },
      "execution_count": null,
      "outputs": []
    },
    {
      "cell_type": "code",
      "source": [
        "from sentinelhub import BBox, CRS\n",
        "\n",
        "# Define your area of interest (AOI)\n",
        "bbox = BBox(bbox=[(13.822, 45.850), (13.828, 45.854)], crs=CRS.WGS84)\n"
      ],
      "metadata": {
        "id": "q951DCSAHawR"
      },
      "execution_count": null,
      "outputs": []
    },
    {
      "cell_type": "code",
      "source": [
        "from sentinelhub import SHConfig, SentinelHubRequest, DataCollection, MimeType, bbox_to_dimensions, BBox, CRS\n",
        "import numpy as np\n",
        "import matplotlib.pyplot as plt\n",
        "# Configure Sentinel Hub API access\n",
        "config = SHConfig()\n",
        "config.instance_id = '2b4eaaff-824d-49e1-883b-274ac0d71327'\n",
        "config.sh_client_id = '9a057dac-64a2-494b-a6f5-67f5175d8078'\n",
        "config.sh_client_secret = '9yehYUDHO8EtjwEg9AWaEAX2jAF3XKKz'\n",
        "# Define area of interest (AOI) and resolution\n",
        "bbox = BBox(bbox=[(13.822, 45.850), (13.828, 45.854)], crs=CRS.WGS84)\n",
        "resolution = 10  # 10 meters per pixel\n",
        "time_interval = ('2023-06-01', '2023-06-30')  # Time period of interest\n",
        "# Define evalscript to process Sentinel-2 data\n",
        "evalscript = \"\"\"\n",
        "    function setup() {\n",
        "      return {\n",
        "        input: [\"B02\", \"B03\", \"B04\", \"dataMask\"],\n",
        "        output: { bands: 3 }\n",
        "      };\n",
        "    }\n",
        "\n",
        "    function evaluatePixel(sample) {\n",
        "      return [sample.B04, sample.B03, sample.B02];  // Red, Green, Blue\n",
        "    }\n",
        "\"\"\"\n",
        "# Create SentinelHub request with responses\n",
        "request = SentinelHubRequest(\n",
        "    data_folder='./data',  # Folder to save the data\n",
        "    evalscript=evalscript,  # The evalscript for RGB data\n",
        "    input_data=[\n",
        "        SentinelHubRequest.input_data(\n",
        "            data_collection=DataCollection.SENTINEL2_L1C,\n",
        "            time_interval=time_interval\n",
        "        )\n",
        "    ],\n",
        "    bbox=bbox,  # The bounding box (area of interest)\n",
        "    size=bbox_to_dimensions(bbox, resolution),  # Dimensions of the image based on resolution\n",
        "    responses=[SentinelHubRequest.output_response('default', MimeType.PNG)],  # Set response to PNG format\n",
        "    config=config  # Sentinel Hub configuration\n",
        ")\n",
        "\n",
        "# Get the data\n",
        "response = request.get_data()\n",
        "\n",
        "# Convert to numpy array and display\n",
        "image = np.array(response[0])  # The image is stored in response[0]\n",
        "plt.imshow(image)\n",
        "plt.title('Sentinel-2 Image')\n",
        "plt.show()\n"
      ],
      "metadata": {
        "colab": {
          "base_uri": "https://localhost:8080/",
          "height": 452
        },
        "id": "7FokOQClHb1S",
        "outputId": "aaa9db31-a2d9-4359-e1c3-bb3a618f70e0"
      },
      "execution_count": null,
      "outputs": [
        {
          "output_type": "display_data",
          "data": {
            "text/plain": [
              "<Figure size 640x480 with 1 Axes>"
            ],
            "image/png": "[encoded data removed]"
          },
          "metadata": {}
        }
      ]
    },
    {
      "cell_type": "code",
      "source": [
        "import cv2\n",
        "\n",
        "# Convert the RGB image to grayscale\n",
        "gray_image = cv2.cvtColor(image, cv2.COLOR_RGB2GRAY)\n",
        "\n",
        "# Display the grayscale image\n",
        "plt.imshow(gray_image, cmap='gray')\n",
        "plt.title('Grayscale Image')\n",
        "plt.axis('off')  # Hide axes\n",
        "plt.show()\n"
      ],
      "metadata": {
        "colab": {
          "base_uri": "https://localhost:8080/",
          "height": 428
        },
        "id": "U2RlKQIfJiRp",
        "outputId": "b49cae34-cfef-4d0b-b46f-ecbf81b31e25"
      },
      "execution_count": null,
      "outputs": [
        {
          "output_type": "display_data",
          "data": {
            "text/plain": [
              "<Figure size 640x480 with 1 Axes>"
            ],
            "image/png": "[encoded data removed]"
          },
          "metadata": {}
        }
      ]
    },
    {
      "cell_type": "code",
      "source": [
        "from sklearn.cluster import KMeans\n",
        "\n",
        "# Reshape the grayscale image for clustering\n",
        "reshaped_image = gray_image.reshape((-1, 1))  # Flatten the image\n",
        "\n",
        "# Apply K-Means clustering\n",
        "kmeans = KMeans(n_clusters=2, random_state=0).fit(reshaped_image)\n",
        "segmented_image = kmeans.labels_.reshape(gray_image.shape)\n",
        "\n",
        "# Display the segmented image\n",
        "plt.imshow(segmented_image, cmap='gray')\n",
        "plt.title('Segmented Image')\n",
        "plt.axis('off')  # Hide axes\n",
        "plt.show()\n"
      ],
      "metadata": {
        "colab": {
          "base_uri": "https://localhost:8080/",
          "height": 483
        },
        "id": "5FpwV4KWJmLR",
        "outputId": "90316305-6f97-4d2a-9afd-493995309481"
      },
      "execution_count": null,
      "outputs": [
        {
          "output_type": "stream",
          "name": "stderr",
          "text": [
            "/usr/local/lib/python3.10/dist-packages/sklearn/cluster/_kmeans.py:1416: FutureWarning: The default value of `n_init` will change from 10 to 'auto' in 1.4. Set the value of `n_init` explicitly to suppress the warning\n",
            "  super()._check_params_vs_input(X, default_n_init=10)\n"
          ]
        },
        {
          "output_type": "display_data",
          "data": {
            "text/plain": [
              "<Figure size 640x480 with 1 Axes>"
            ],
            "image/png": "[encoded data removed]"
          },
          "metadata": {}
        }
      ]
    },
    {
      "cell_type": "code",
      "source": [
        "import os\n",
        "import numpy as np\n",
        "import matplotlib.pyplot as plt\n",
        "import cv2\n",
        "from sklearn.cluster import KMeans\n",
        "\n",
        "# Assume response has been fetched and converted to a NumPy array\n",
        "# Example response:\n",
        "# response = request.get_data()\n",
        "# image = np.array(response[0])  # The image is stored in response[0]\n",
        "\n",
        "# Convert the RGB image to grayscale\n",
        "gray_image = cv2.cvtColor(image, cv2.COLOR_RGB2GRAY)\n",
        "\n",
        "# Reshape for clustering\n",
        "reshaped_image = gray_image.reshape((-1, 1))  # Flatten the image\n",
        "\n",
        "# Apply K-Means clustering\n",
        "kmeans = KMeans(n_clusters=2, random_state=0).fit(reshaped_image)\n",
        "segmented_image = kmeans.labels_.reshape(gray_image.shape)\n",
        "\n",
        "# Define path for saving the segmented image\n",
        "output_directory = './data'\n",
        "segmented_output_path = os.path.join(output_directory, 'segmented_image.png')\n",
        "\n",
        "# Create directory if it doesn't exist\n",
        "if not os.path.exists(output_directory):\n",
        "    os.makedirs(output_directory)\n",
        "\n",
        "# Save the segmented image\n",
        "plt.imsave(segmented_output_path, segmented_image, cmap='gray')\n",
        "\n",
        "# Display the segmented image\n",
        "plt.imshow(segmented_image, cmap='gray')\n",
        "plt.title('Segmented Image')\n",
        "plt.axis('off')  # Hide axes\n",
        "plt.show()\n"
      ],
      "metadata": {
        "colab": {
          "base_uri": "https://localhost:8080/",
          "height": 483
        },
        "id": "98aQyu94KU-j",
        "outputId": "37d7cc58-0e07-4034-becc-e9e87bb989d3"
      },
      "execution_count": null,
      "outputs": [
        {
          "output_type": "stream",
          "name": "stderr",
          "text": [
            "/usr/local/lib/python3.10/dist-packages/sklearn/cluster/_kmeans.py:1416: FutureWarning: The default value of `n_init` will change from 10 to 'auto' in 1.4. Set the value of `n_init` explicitly to suppress the warning\n",
            "  super()._check_params_vs_input(X, default_n_init=10)\n"
          ]
        },
        {
          "output_type": "display_data",
          "data": {
            "text/plain": [
              "<Figure size 640x480 with 1 Axes>"
            ],
            "image/png": "[encoded data removed]"
          },
          "metadata": {}
        }
      ]
    },
    {
      "cell_type": "code",
      "source": [
        "# Define path for saving segmented image\n",
        "segmented_output_path = './data/segmented_image.png'\n",
        "\n",
        "# Save the segmented image\n",
        "plt.imsave(segmented_output_path, segmented_image, cmap='gray')\n"
      ],
      "metadata": {
        "id": "C2Bw6mb8JorG"
      },
      "execution_count": null,
      "outputs": []
    },
    {
      "cell_type": "code",
      "source": [
        "import numpy as np\n",
        "from sklearn.ensemble import RandomForestClassifier\n",
        "from sklearn.preprocessing import StandardScaler\n",
        "from sklearn.model_selection import train_test_split\n",
        "\n",
        "# Generate synthetic feature data and labels\n",
        "# Replace this with actual feature extraction method\n",
        "X_train = np.random.rand(1000, 3)  # Example feature vectors with 3 features\n",
        "y_train = np.random.randint(0, 2, 1000)  # Example labels\n",
        "\n",
        "# Split the data into training and testing sets\n",
        "X_train, X_test, y_train, y_test = train_test_split(X_train, y_train, test_size=0.2, random_state=0)\n",
        "\n",
        "# Standardize the features\n",
        "scaler = StandardScaler()\n",
        "X_train_scaled = scaler.fit_transform(X_train)\n",
        "X_test_scaled = scaler.transform(X_test)\n",
        "\n",
        "# Train the RandomForestClassifier\n",
        "clf = RandomForestClassifier(n_estimators=100, random_state=0)\n",
        "clf.fit(X_train_scaled, y_train)\n",
        "\n",
        "# Evaluate the classifier\n",
        "accuracy = clf.score(X_test_scaled, y_test)\n",
        "print(f\"Classifier accuracy: {accuracy:.2f}\")\n"
      ],
      "metadata": {
        "colab": {
          "base_uri": "https://localhost:8080/"
        },
        "id": "wYFlG0d4J8Iz",
        "outputId": "f5a3b8ae-0d4f-407a-85fb-076afa821598"
      },
      "execution_count": null,
      "outputs": [
        {
          "output_type": "stream",
          "name": "stdout",
          "text": [
            "Classifier accuracy: 0.48\n"
          ]
        }
      ]
    },
    {
      "cell_type": "code",
      "source": [
        "import numpy as np\n",
        "import matplotlib.pyplot as plt\n",
        "import cv2\n",
        "from sklearn.ensemble import RandomForestClassifier\n",
        "from sklearn.preprocessing import StandardScaler\n",
        "from sklearn.model_selection import train_test_split\n",
        "from sklearn.metrics import classification_report, confusion_matrix\n",
        "\n",
        "# Example feature extraction for training data\n",
        "# Replace this with actual data\n",
        "X_train = np.random.rand(1000, 3)  # Example feature vectors with 3 features (e.g., RGB)\n",
        "y_train = np.random.randint(0, 2, 1000)  # Example labels\n",
        "\n",
        "# Split the data into training and testing sets\n",
        "X_train, X_test, y_train, y_test = train_test_split(X_train, y_train, test_size=0.2, random_state=0)\n",
        "\n",
        "# Standardize the features\n",
        "scaler = StandardScaler()\n",
        "X_train_scaled = scaler.fit_transform(X_train)\n",
        "X_test_scaled = scaler.transform(X_test)\n",
        "\n",
        "# Train the RandomForestClassifier\n",
        "clf = RandomForestClassifier(n_estimators=100, random_state=0)\n",
        "clf.fit(X_train_scaled, y_train)\n",
        "\n",
        "# Evaluate the classifier on the test set\n",
        "y_test_pred = clf.predict(X_test_scaled)\n",
        "print(\"Classification Report:\")\n",
        "print(classification_report(y_test, y_test_pred))\n",
        "print(\"Confusion Matrix:\")\n",
        "print(confusion_matrix(y_test, y_test_pred))\n",
        "\n",
        "# Example segmented image: let's assume it's an RGB image\n",
        "# For demonstration, create a synthetic RGB image\n",
        "# Replace this with actual image data\n",
        "segmented_image = np.random.randint(0, 255, (64, 64, 3), dtype=np.uint8)  # Example RGB image\n",
        "\n",
        "# Flatten the RGB image for classification\n",
        "features = segmented_image.reshape(-1, 3)  # Each pixel will have 3 features (R, G, B)\n",
        "\n",
        "# Standardize the features\n",
        "features_scaled = scaler.transform(features)\n",
        "\n",
        "# Predict using the trained classifier\n",
        "predictions = clf.predict(features_scaled)\n",
        "\n",
        "# Reshape predictions to match the image dimensions\n",
        "classified_image = predictions.reshape(segmented_image.shape[:2])  # Only take the first 2 dimensions (height, width)\n",
        "\n",
        "# Display the classified image\n",
        "plt.figure(figsize=(8, 6))\n",
        "plt.imshow(classified_image, cmap='jet')\n",
        "plt.title('Classified Image')\n",
        "plt.axis('off')  # Hide axes\n",
        "\n",
        "# Add a custom legend\n",
        "plt.scatter([], [], c='blue', label='Natural Changes', marker='o')\n",
        "plt.scatter([], [], c='red', label='Man-Made Changes', marker='o')\n",
        "plt.legend(loc='upper right')\n",
        "\n",
        "plt.show()\n",
        "\n",
        "# Save the classified image\n",
        "classified_output_path = './data/classified_image.png'\n",
        "plt.imsave(classified_output_path, classified_image, cmap='jet')\n"
      ],
      "metadata": {
        "colab": {
          "base_uri": "https://localhost:8080/",
          "height": 747
        },
        "id": "bH7stY15MOcq",
        "outputId": "71ed9335-4ae8-41f7-a64f-508b8116f27e"
      },
      "execution_count": null,
      "outputs": [
        {
          "output_type": "stream",
          "name": "stdout",
          "text": [
            "Classification Report:\n",
            "              precision    recall  f1-score   support\n",
            "\n",
            "           0       0.51      0.42      0.46       104\n",
            "           1       0.47      0.56      0.51        96\n",
            "\n",
            "    accuracy                           0.49       200\n",
            "   macro avg       0.49      0.49      0.49       200\n",
            "weighted avg       0.49      0.49      0.49       200\n",
            "\n",
            "Confusion Matrix:\n",
            "[[44 60]\n",
            " [42 54]]\n"
          ]
        },
        {
          "output_type": "display_data",
          "data": {
            "text/plain": [
              "<Figure size 800x600 with 1 Axes>"
            ],
            "image/png": "[encoded data removed]"
          },
          "metadata": {}
        }
      ]
    }
  ]
}